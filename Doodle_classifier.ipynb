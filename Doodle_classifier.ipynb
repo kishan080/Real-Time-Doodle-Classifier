{
  "nbformat": 4,
  "nbformat_minor": 0,
  "metadata": {
    "colab": {
      "name": "Doodle_classifier.ipynb",
      "provenance": [],
      "collapsed_sections": []
    },
    "kernelspec": {
      "name": "python3",
      "display_name": "Python 3"
    },
    "language_info": {
      "name": "python"
    }
  },
  "cells": [
    {
      "cell_type": "code",
      "metadata": {
        "colab": {
          "base_uri": "https://localhost:8080/"
        },
        "id": "mkyzmXeZAiYM",
        "outputId": "ce80193a-2d8c-4d5b-e920-46eceadd57fe"
      },
      "source": [
        "!unrar e '/content/drive/MyDrive/doodle/Doodle dataset.rar'"
      ],
      "execution_count": null,
      "outputs": [
        {
          "output_type": "stream",
          "name": "stdout",
          "text": [
            "\n",
            "UNRAR 5.50 freeware      Copyright (c) 1993-2017 Alexander Roshal\n",
            "\n",
            "\n",
            "Extracting from /content/drive/MyDrive/doodle/Doodle dataset.rar\n",
            "\n",
            "Extracting  full_numpy_bitmap_airplane.npy                               \b\b\b\b  0%\b\b\b\b  1%\b\b\b\b  2%\b\b\b\b  3%\b\b\b\b  4%\b\b\b\b  5%\b\b\b\b\b  OK \n",
            "Extracting  full_numpy_bitmap_ant.npy                                    \b\b\b\b  5%\b\b\b\b  6%\b\b\b\b  7%\b\b\b\b  8%\b\b\b\b  9%\b\b\b\b\b  OK \n",
            "Extracting  full_numpy_bitmap_banana.npy                                 \b\b\b\b  9%\b\b\b\b 10%\b\b\b\b 11%\b\b\b\b 12%\b\b\b\b 13%\b\b\b\b 14%\b\b\b\b 15%\b\b\b\b 16%\b\b\b\b 17%\b\b\b\b 18%\b\b\b\b 19%\b\b\b\b\b  OK \n",
            "Extracting  full_numpy_bitmap_baseball.npy                               \b\b\b\b 19%\b\b\b\b 20%\b\b\b\b 21%\b\b\b\b 22%\b\b\b\b 23%\b\b\b\b 24%\b\b\b\b 25%\b\b\b\b\b  OK \n",
            "Extracting  full_numpy_bitmap_bird.npy                                   \b\b\b\b 25%\b\b\b\b 26%\b\b\b\b 27%\b\b\b\b 28%\b\b\b\b 29%\b\b\b\b 30%\b\b\b\b\b  OK \n",
            "Extracting  full_numpy_bitmap_bucket.npy                                 \b\b\b\b 30%\b\b\b\b 31%\b\b\b\b 32%\b\b\b\b 33%\b\b\b\b 34%\b\b\b\b\b  OK \n",
            "Extracting  full_numpy_bitmap_butterfly.npy                              \b\b\b\b 34%\b\b\b\b 35%\b\b\b\b 36%\b\b\b\b 37%\b\b\b\b 38%\b\b\b\b 39%\b\b\b\b 40%\b\b\b\b\b  OK \n",
            "Extracting  full_numpy_bitmap_cat.npy                                    \b\b\b\b 40%\b\b\b\b 41%\b\b\b\b 42%\b\b\b\b 43%\b\b\b\b 44%\b\b\b\b 45%\b\b\b\b\b  OK \n",
            "Extracting  full_numpy_bitmap_coffee cup.npy                             \b\b\b\b 45%\b\b\b\b 46%\b\b\b\b 47%\b\b\b\b 48%\b\b\b\b 49%\b\b\b\b 50%\b\b\b\b 51%\b\b\b\b 52%\b\b\b\b 53%\b\b\b\b\b  OK \n",
            "Extracting  full_numpy_bitmap_dolphin.npy                                \b\b\b\b 53%\b\b\b\b 54%\b\b\b\b 55%\b\b\b\b 56%\b\b\b\b\b  OK \n",
            "Extracting  full_numpy_bitmap_donut.npy                                  \b\b\b\b 56%\b\b\b\b 57%\b\b\b\b 58%\b\b\b\b 59%\b\b\b\b 60%\b\b\b\b 61%\b\b\b\b 62%\b\b\b\b 63%\b\b\b\b\b  OK \n",
            "Extracting  full_numpy_bitmap_duck.npy                                   \b\b\b\b 63%\b\b\b\b 64%\b\b\b\b 65%\b\b\b\b 66%\b\b\b\b 67%\b\b\b\b 68%\b\b\b\b\b  OK \n",
            "Extracting  full_numpy_bitmap_fish.npy                                   \b\b\b\b 68%\b\b\b\b 69%\b\b\b\b 70%\b\b\b\b 71%\b\b\b\b 72%\b\b\b\b\b  OK \n",
            "Extracting  full_numpy_bitmap_leaf.npy                                   \b\b\b\b 72%\b\b\b\b 73%\b\b\b\b 74%\b\b\b\b 75%\b\b\b\b 76%\b\b\b\b 77%\b\b\b\b\b  OK \n",
            "Extracting  full_numpy_bitmap_mountain.npy                               \b\b\b\b 77%\b\b\b\b 78%\b\b\b\b 79%\b\b\b\b 80%\b\b\b\b\b  OK \n",
            "Extracting  full_numpy_bitmap_pencil.npy                                 \b\b\b\b 80%\b\b\b\b 81%\b\b\b\b 82%\b\b\b\b 83%\b\b\b\b\b  OK \n",
            "Extracting  full_numpy_bitmap_smiley face.npy                            \b\b\b\b 83%\b\b\b\b 84%\b\b\b\b 85%\b\b\b\b 86%\b\b\b\b 87%\b\b\b\b 88%\b\b\b\b 89%\b\b\b\b\b  OK \n",
            "Extracting  full_numpy_bitmap_snake.npy                                  \b\b\b\b 89%\b\b\b\b 90%\b\b\b\b 91%\b\b\b\b 92%\b\b\b\b\b  OK \n",
            "Extracting  full_numpy_bitmap_umbrella.npy                               \b\b\b\b 92%\b\b\b\b 93%\b\b\b\b 94%\b\b\b\b 95%\b\b\b\b 96%\b\b\b\b\b  OK \n",
            "Extracting  full_numpy_bitmap_wine bottle.npy                            \b\b\b\b 96%\b\b\b\b 97%\b\b\b\b 98%\b\b\b\b 99%\b\b\b\b\b  OK \n",
            "All OK\n"
          ]
        }
      ]
    },
    {
      "cell_type": "code",
      "metadata": {
        "colab": {
          "base_uri": "https://localhost:8080/"
        },
        "id": "kOr1FrsiIyLe",
        "outputId": "a017087e-f340-4541-8b60-077220db89df"
      },
      "source": [
        "!pip install ndjson"
      ],
      "execution_count": null,
      "outputs": [
        {
          "output_type": "stream",
          "name": "stdout",
          "text": [
            "Collecting ndjson\n",
            "  Downloading ndjson-0.3.1-py2.py3-none-any.whl (5.3 kB)\n",
            "Installing collected packages: ndjson\n",
            "Successfully installed ndjson-0.3.1\n"
          ]
        }
      ]
    },
    {
      "cell_type": "markdown",
      "metadata": {
        "id": "h1Kv0-jrY3zV"
      },
      "source": [
        "#Doodle claassifier "
      ]
    },
    {
      "cell_type": "code",
      "metadata": {
        "id": "x6tQbcuz7_Tv"
      },
      "source": [
        "device = torch.device('cuda' if torch.cuda.is_available() else 'cpu')\n"
      ],
      "execution_count": null,
      "outputs": []
    },
    {
      "cell_type": "code",
      "metadata": {
        "id": "-6hkn0nSZHeB"
      },
      "source": [
        "import numpy as np\n",
        "import torch\n",
        "import torchvision\n",
        "from torch.utils.data import Dataset, DataLoader,random_split\n",
        "import math\n",
        "import matplotlib.pyplot as plt\n",
        "from torch import optim  \n",
        "from torch import nn \n",
        "import torch.nn.functional as F \n",
        "from tqdm import tqdm\n"
      ],
      "execution_count": null,
      "outputs": []
    },
    {
      "cell_type": "code",
      "metadata": {
        "id": "tVWEvoGwY6sE",
        "colab": {
          "base_uri": "https://localhost:8080/"
        },
        "outputId": "bc91372a-61b4-4706-f67e-e74e80c17794"
      },
      "source": [
        "classes=('airplane','ant','banana','baseball','bird','bucket','butterfly','cat','coffee cup','dolphin','donut','duck','fish','leaf','mountain','pencil','smiley face','snake','umbrella','wine bottle')\n",
        "print(len(classes))\n",
        "\n"
      ],
      "execution_count": null,
      "outputs": [
        {
          "output_type": "stream",
          "name": "stdout",
          "text": [
            "20\n"
          ]
        }
      ]
    },
    {
      "cell_type": "code",
      "metadata": {
        "colab": {
          "base_uri": "https://localhost:8080/"
        },
        "id": "BHEncyhofBmr",
        "outputId": "b3f6caf2-c046-414f-c128-8b9a78a646cc"
      },
      "source": [
        "data=np.load('/content/drive/MyDrive/doodle/full_numpy_bitmap_airplane.npy')\n",
        "n_samples=data.shape[0]\n",
        "data=data.reshape(n_samples,1,28,28)\n",
        "label=np.full((n_samples, 1), 0, dtype='uint8')\n",
        "print(data.shape)\n",
        "##loomp\n",
        "for i in range(1,20):\n",
        "  string='/content/drive/MyDrive/doodle/full_numpy_bitmap_'+classes[i]+'.npy'\n",
        "  temp=np.load(string)\n",
        "  n_samples=temp.shape[0]\n",
        "  temp=temp.reshape(n_samples,1,28,28)\n",
        "  temp_label=np.full((n_samples, 1), i, dtype='uint8')\n",
        "  #print(temp.shape)\n",
        "  label=np.concatenate((label,temp_label),axis=0)\n",
        "  data=np.concatenate((data,temp),axis=0)\n",
        "  print(data.shape)\n",
        "print(\"label\")\n",
        "label=label.reshape(2807037)\n",
        "print(label.shape)"
      ],
      "execution_count": null,
      "outputs": [
        {
          "output_type": "stream",
          "name": "stdout",
          "text": [
            "(151623, 1, 28, 28)\n",
            "(276235, 1, 28, 28)\n",
            "(584171, 1, 28, 28)\n",
            "(719546, 1, 28, 28)\n",
            "(853118, 1, 28, 28)\n",
            "(977182, 1, 28, 28)\n",
            "(1095181, 1, 28, 28)\n",
            "(1218383, 1, 28, 28)\n",
            "(1401815, 1, 28, 28)\n",
            "(1523428, 1, 28, 28)\n",
            "(1664179, 1, 28, 28)\n",
            "(1799659, 1, 28, 28)\n",
            "(1933809, 1, 28, 28)\n",
            "(2059380, 1, 28, 28)\n",
            "(2187920, 1, 28, 28)\n",
            "(2309921, 1, 28, 28)\n",
            "(2434307, 1, 28, 28)\n",
            "(2556580, 1, 28, 28)\n",
            "(2680664, 1, 28, 28)\n",
            "(2807037, 1, 28, 28)\n",
            "label\n",
            "(2807037,)\n"
          ]
        }
      ]
    },
    {
      "cell_type": "markdown",
      "metadata": {
        "id": "xElvw7blkR9R"
      },
      "source": [
        ""
      ]
    },
    {
      "cell_type": "code",
      "metadata": {
        "colab": {
          "base_uri": "https://localhost:8080/"
        },
        "id": "AHuwkAK7pq_A",
        "outputId": "7dcd5d8b-cc64-4886-8140-18a250a993b7"
      },
      "source": [
        "class Doomdle(Dataset):\n",
        "  def __init__(self,data,label):\n",
        "    self.data_set= torch.from_numpy(data)\n",
        "    self.y_labels= torch.from_numpy(label)\n",
        "    self.n_samples=data.shape[0]\n",
        "\n",
        "\n",
        "  def __getitem__(self, index):\n",
        "        sample = self.data_set[index], self.y_labels[index]\n",
        "        return sample\n",
        "\n",
        "  def __len__(self):\n",
        "        return self.n_samples\n",
        "\n",
        "data_sets=Doomdle(data,label)\n",
        "first_data = data_sets[0]\n",
        "features, labels = first_data\n",
        "print(len(data_sets))\n",
        "print(features.shape, labels)\n",
        "#print(classes[labels])\n",
        "\n",
        "\n",
        "#shuffled_data=DataLoader(dataset=data_sets,batch_size=,shuffle=True,num_workers=2)\n",
        "\n",
        "#print(len(shuffled_data))\n",
        "#dataiter = iter(shuffled_data)\n",
        "#print(len(dataiter)\n",
        "#features, labels = dataq\n",
        "#print(features.shape, labels[0])\n",
        "#features=np.array(features)\n",
        "#print(classes[labels[0]])\n",
        "#plt.imshow(features[0],cmap = 'gray')\n",
        "\n",
        "\n",
        "\n",
        "\n"
      ],
      "execution_count": null,
      "outputs": [
        {
          "output_type": "stream",
          "name": "stdout",
          "text": [
            "2807037\n",
            "torch.Size([1, 28, 28]) tensor(0, dtype=torch.uint8)\n"
          ]
        }
      ]
    },
    {
      "cell_type": "code",
      "metadata": {
        "colab": {
          "base_uri": "https://localhost:8080/"
        },
        "id": "-pZ1sQ0e54D0",
        "outputId": "e1a78d8b-0705-423b-e620-c965cb611e2c"
      },
      "source": [
        "train_size = int(0.7 * len(data_sets))\n",
        "vald_size=int(0.1 * len(data_sets))\n",
        "test_size = len(data_sets) - train_size-vald_size\n",
        "train_dataset, vald_dataset, test_dataset =random_split(data_sets, [train_size,vald_size ,test_size])\n",
        "\n",
        "\n",
        "#first_data = train_dataset[0]\n",
        "#features, labels = first_data\n",
        "#print(len(data_sets))\n",
        "#print(features.shape, labels)\n",
        "#print(classes[labels])\n",
        "#features=np.array(features)\n",
        "\n",
        "#plt.imshow(features,cmap = 'gray')\n",
        "#plt.show()\n",
        "train_dataset=DataLoader(dataset=train_dataset,batch_size=2048,shuffle=True,num_workers=2)\n",
        "vald_dataset=DataLoader(dataset=vald_dataset,batch_size=2048,num_workers=2)\n",
        "test_dataset=DataLoader(dataset=test_dataset,batch_size=2048,num_workers=2)\n",
        "print(len(train_dataset))\n",
        "#print(len(shuffled_data))"
      ],
      "execution_count": null,
      "outputs": [
        {
          "output_type": "stream",
          "name": "stdout",
          "text": [
            "960\n"
          ]
        }
      ]
    },
    {
      "cell_type": "code",
      "metadata": {
        "colab": {
          "base_uri": "https://localhost:8080/",
          "height": 1000
        },
        "id": "KLYd7oSb1I8M",
        "outputId": "40604801-d275-4fb0-fd36-dc3120b481b2"
      },
      "source": [
        "class CNN(nn.Module):\n",
        "    def __init__(self, in_channels, num_classes):\n",
        "        super(CNN, self).__init__()\n",
        "        self.conv1 = nn.Conv2d(in_channels,4,3,stride=1,padding=1)\n",
        "        self.pool = nn.MaxPool2d(2,2)\n",
        "        self.dropout=nn.Dropout()\n",
        "        self.conv2 = nn.Conv2d(4,8,3,stride=1,padding=1 )\n",
        "        self.fc1 = nn.Linear(8 * 7 * 7, 150)\n",
        "        self.fc2 = nn.Linear(150, num_classes)\n",
        "\n",
        "    def forward(self, x):\n",
        "        x = F.relu(self.conv1(x))\n",
        "        x = self.pool(x)\n",
        "        x = F.relu(self.conv2(x))\n",
        "        x = self.pool(x)\n",
        "        #x = torch.flatten(x, 1)\n",
        "        x=x.view(-1,8*7*7)\n",
        "        x=self.dropout(x)\n",
        "        x = F.relu(self.fc1(x))\n",
        "        x=self.fc2(x)\n",
        "\n",
        "        return x\n",
        "\n",
        "in_channels = 1\n",
        "num_classes = 20\n",
        "learning_rate = 0.001\n",
        "batch_size = 2048\n",
        "num_epochs = 10\n",
        "\n",
        "\n",
        "model=CNN(in_channels, num_classes).to(device)\n",
        "\n",
        "criterion = nn.CrossEntropyLoss()\n",
        "optimizer = optim.Adam(model.parameters(), lr=learning_rate)\n",
        "n_total_steps = len(train_dataset)\n",
        "co=[]\n",
        "for epoch in range(num_epochs):\n",
        "    for batch_idx, (data1, targets) in enumerate((train_dataset)):\n",
        "      \n",
        "      data1=data1.to(device)\n",
        "      targets=targets.to(device)\n",
        "      scores = model(data1.float())\n",
        "      targets = targets.type(torch.LongTensor)\n",
        "      loss = criterion(scores, targets)\n",
        "\n",
        "      optimizer.zero_grad()\n",
        "      loss.backward()\n",
        "\n",
        "        \n",
        "      optimizer.step()\n",
        "      if (batch_idx==0):\n",
        "         print(f'Epoch [{epoch+1}/{num_epochs}], Step [{batch_idx+1}/{n_total_steps}], Loss: {loss.item():.4f}')\n",
        "      if (batch_idx+1) % 100 == 0:\n",
        "        print(f'Epoch [{epoch+1}/{num_epochs}], Step [{batch_idx+1}/{n_total_steps}], Loss: {loss.item():.4f}')\n",
        "      co.append(loss.item())\n",
        "plt.plot(co)  \n",
        "\n",
        "\n"
      ],
      "execution_count": null,
      "outputs": [
        {
          "output_type": "stream",
          "name": "stdout",
          "text": [
            "Epoch [1/10], Step [1/960], Loss: 5.9988\n",
            "Epoch [1/10], Step [100/960], Loss: 1.2565\n",
            "Epoch [1/10], Step [200/960], Loss: 0.9854\n",
            "Epoch [1/10], Step [300/960], Loss: 0.8839\n",
            "Epoch [1/10], Step [400/960], Loss: 0.8656\n",
            "Epoch [1/10], Step [500/960], Loss: 0.8032\n",
            "Epoch [1/10], Step [600/960], Loss: 0.7152\n",
            "Epoch [1/10], Step [700/960], Loss: 0.7238\n",
            "Epoch [1/10], Step [800/960], Loss: 0.7339\n",
            "Epoch [1/10], Step [900/960], Loss: 0.6574\n",
            "Epoch [2/10], Step [1/960], Loss: 0.7334\n",
            "Epoch [2/10], Step [100/960], Loss: 0.7022\n",
            "Epoch [2/10], Step [200/960], Loss: 0.6826\n",
            "Epoch [2/10], Step [300/960], Loss: 0.6899\n",
            "Epoch [2/10], Step [400/960], Loss: 0.6849\n",
            "Epoch [2/10], Step [500/960], Loss: 0.6313\n",
            "Epoch [2/10], Step [600/960], Loss: 0.6260\n",
            "Epoch [2/10], Step [700/960], Loss: 0.6400\n",
            "Epoch [2/10], Step [800/960], Loss: 0.6590\n",
            "Epoch [2/10], Step [900/960], Loss: 0.6095\n",
            "Epoch [3/10], Step [1/960], Loss: 0.6088\n",
            "Epoch [3/10], Step [100/960], Loss: 0.6507\n",
            "Epoch [3/10], Step [200/960], Loss: 0.6303\n",
            "Epoch [3/10], Step [300/960], Loss: 0.5877\n",
            "Epoch [3/10], Step [400/960], Loss: 0.6069\n",
            "Epoch [3/10], Step [500/960], Loss: 0.6028\n",
            "Epoch [3/10], Step [600/960], Loss: 0.6529\n",
            "Epoch [3/10], Step [700/960], Loss: 0.6280\n",
            "Epoch [3/10], Step [800/960], Loss: 0.6514\n",
            "Epoch [3/10], Step [900/960], Loss: 0.5839\n",
            "Epoch [4/10], Step [1/960], Loss: 0.6031\n",
            "Epoch [4/10], Step [100/960], Loss: 0.5770\n",
            "Epoch [4/10], Step [200/960], Loss: 0.5494\n",
            "Epoch [4/10], Step [300/960], Loss: 0.5620\n",
            "Epoch [4/10], Step [400/960], Loss: 0.5842\n",
            "Epoch [4/10], Step [500/960], Loss: 0.6031\n",
            "Epoch [4/10], Step [600/960], Loss: 0.5994\n",
            "Epoch [4/10], Step [700/960], Loss: 0.5674\n",
            "Epoch [4/10], Step [800/960], Loss: 0.5895\n",
            "Epoch [4/10], Step [900/960], Loss: 0.5609\n",
            "Epoch [5/10], Step [1/960], Loss: 0.5968\n",
            "Epoch [5/10], Step [100/960], Loss: 0.5667\n",
            "Epoch [5/10], Step [200/960], Loss: 0.5508\n",
            "Epoch [5/10], Step [300/960], Loss: 0.5908\n",
            "Epoch [5/10], Step [400/960], Loss: 0.5767\n",
            "Epoch [5/10], Step [500/960], Loss: 0.5577\n",
            "Epoch [5/10], Step [600/960], Loss: 0.6072\n",
            "Epoch [5/10], Step [700/960], Loss: 0.5717\n",
            "Epoch [5/10], Step [800/960], Loss: 0.5994\n",
            "Epoch [5/10], Step [900/960], Loss: 0.5646\n",
            "Epoch [6/10], Step [1/960], Loss: 0.5776\n",
            "Epoch [6/10], Step [100/960], Loss: 0.5638\n",
            "Epoch [6/10], Step [200/960], Loss: 0.5657\n",
            "Epoch [6/10], Step [300/960], Loss: 0.5615\n",
            "Epoch [6/10], Step [400/960], Loss: 0.5463\n",
            "Epoch [6/10], Step [500/960], Loss: 0.5093\n",
            "Epoch [6/10], Step [600/960], Loss: 0.5171\n",
            "Epoch [6/10], Step [700/960], Loss: 0.5461\n",
            "Epoch [6/10], Step [800/960], Loss: 0.5573\n",
            "Epoch [6/10], Step [900/960], Loss: 0.5983\n",
            "Epoch [7/10], Step [1/960], Loss: 0.5696\n",
            "Epoch [7/10], Step [100/960], Loss: 0.5578\n",
            "Epoch [7/10], Step [200/960], Loss: 0.5511\n",
            "Epoch [7/10], Step [300/960], Loss: 0.5388\n",
            "Epoch [7/10], Step [400/960], Loss: 0.5537\n",
            "Epoch [7/10], Step [500/960], Loss: 0.5796\n",
            "Epoch [7/10], Step [600/960], Loss: 0.5747\n",
            "Epoch [7/10], Step [700/960], Loss: 0.5305\n",
            "Epoch [7/10], Step [800/960], Loss: 0.5709\n",
            "Epoch [7/10], Step [900/960], Loss: 0.5666\n",
            "Epoch [8/10], Step [1/960], Loss: 0.5783\n",
            "Epoch [8/10], Step [100/960], Loss: 0.5085\n",
            "Epoch [8/10], Step [200/960], Loss: 0.5598\n",
            "Epoch [8/10], Step [300/960], Loss: 0.6087\n",
            "Epoch [8/10], Step [400/960], Loss: 0.5709\n",
            "Epoch [8/10], Step [500/960], Loss: 0.5194\n",
            "Epoch [8/10], Step [600/960], Loss: 0.5410\n",
            "Epoch [8/10], Step [700/960], Loss: 0.5339\n",
            "Epoch [8/10], Step [800/960], Loss: 0.5042\n",
            "Epoch [8/10], Step [900/960], Loss: 0.6201\n",
            "Epoch [9/10], Step [1/960], Loss: 0.5113\n",
            "Epoch [9/10], Step [100/960], Loss: 0.5630\n",
            "Epoch [9/10], Step [200/960], Loss: 0.5069\n",
            "Epoch [9/10], Step [300/960], Loss: 0.5556\n",
            "Epoch [9/10], Step [400/960], Loss: 0.5665\n",
            "Epoch [9/10], Step [500/960], Loss: 0.5366\n",
            "Epoch [9/10], Step [600/960], Loss: 0.5751\n",
            "Epoch [9/10], Step [700/960], Loss: 0.5600\n",
            "Epoch [9/10], Step [800/960], Loss: 0.5554\n",
            "Epoch [9/10], Step [900/960], Loss: 0.5300\n",
            "Epoch [10/10], Step [1/960], Loss: 0.5703\n",
            "Epoch [10/10], Step [100/960], Loss: 0.4858\n",
            "Epoch [10/10], Step [200/960], Loss: 0.5280\n",
            "Epoch [10/10], Step [300/960], Loss: 0.5202\n",
            "Epoch [10/10], Step [400/960], Loss: 0.5362\n",
            "Epoch [10/10], Step [500/960], Loss: 0.5431\n",
            "Epoch [10/10], Step [600/960], Loss: 0.5308\n",
            "Epoch [10/10], Step [700/960], Loss: 0.5445\n",
            "Epoch [10/10], Step [800/960], Loss: 0.5156\n",
            "Epoch [10/10], Step [900/960], Loss: 0.5680\n"
          ]
        },
        {
          "output_type": "execute_result",
          "data": {
            "text/plain": [
              "[<matplotlib.lines.Line2D at 0x7f4ae88c9c50>]"
            ]
          },
          "metadata": {},
          "execution_count": 14
        },
        {
          "output_type": "display_data",
          "data": {
            "image/png": "[encoded data removed]",
            "text/plain": [
              "<Figure size 432x288 with 1 Axes>"
            ]
          },
          "metadata": {
            "needs_background": "light"
          }
        }
      ]
    },
    {
      "cell_type": "code",
      "metadata": {
        "id": "YWCGYEZ0AWdS",
        "colab": {
          "base_uri": "https://localhost:8080/"
        },
        "outputId": "5bf8b379-9dbe-4c9b-f563-a68f75b63d3f"
      },
      "source": [
        "def check_accuracy(loader, model):\n",
        "    num_correct = 0\n",
        "    num_samples = 0\n",
        "    \n",
        "    with torch.no_grad():\n",
        "        for x, y in loader:\n",
        "          x=x.to(device)\n",
        "          y=y.to(device)\n",
        "          x = x.type(torch.LongTensor)\n",
        "          y = y.type(torch.LongTensor)\n",
        "          scores = model(x.float())\n",
        "          _, predictions = torch.max(scores.data, 1)\n",
        "          num_correct += (predictions == y).sum()\n",
        "          num_samples += predictions.size(0)\n",
        "\n",
        "\n",
        "    model.train()\n",
        "    return num_correct/num_samples\n",
        "\n",
        "\n",
        "print(f\"Accuracy on training set: {check_accuracy(train_dataset, model)*100:.2f}\")\n",
        "print(f\"Accuracy on test set: {check_accuracy(test_dataset, model)*100:.2f}\")"
      ],
      "execution_count": null,
      "outputs": [
        {
          "output_type": "stream",
          "name": "stdout",
          "text": [
            "Accuracy on training set: 90.18\n",
            "Accuracy on test set: 89.67\n"
          ]
        }
      ]
    },
    {
      "cell_type": "code",
      "metadata": {
        "colab": {
          "base_uri": "https://localhost:8080/"
        },
        "id": "gGqmvAF1BHPE",
        "outputId": "9b51b0a1-d225-4ddf-9529-7dd330045b6d"
      },
      "source": [
        "print(f\"Accuracy on test set: {check_accuracy(vald_dataset, model)*100:.2f}\")"
      ],
      "execution_count": null,
      "outputs": [
        {
          "output_type": "stream",
          "name": "stdout",
          "text": [
            "Accuracy on test set: 85.14\n"
          ]
        }
      ]
    },
    {
      "cell_type": "code",
      "metadata": {
        "id": "eJGAiuN5VTz3"
      },
      "source": [
        "#saving model\n",
        "FILE = \"model.pth\"\n",
        "torch.save(model.state_dict(), FILE)\n"
      ],
      "execution_count": null,
      "outputs": []
    },
    {
      "cell_type": "code",
      "metadata": {
        "colab": {
          "base_uri": "https://localhost:8080/"
        },
        "id": "qzRm4Q7YVOUF",
        "outputId": "cc39ed86-2d7b-4fa8-e9b8-5b67a1669951"
      },
      "source": [
        "#loading model for evalution \n",
        "FILE = \"model1.pth\"\n",
        "loaded_model = CNN(in_channels, num_classes)\n",
        "loaded_model.load_state_dict(torch.load(FILE)) # it takes the loaded dictionary, not the path file itself\n",
        "loaded_model.eval()\n",
        "\n"
      ],
      "execution_count": null,
      "outputs": [
        {
          "output_type": "execute_result",
          "data": {
            "text/plain": [
              "CNN(\n",
              "  (conv1): Conv2d(1, 4, kernel_size=(3, 3), stride=(1, 1), padding=(1, 1))\n",
              "  (pool): MaxPool2d(kernel_size=2, stride=2, padding=0, dilation=1, ceil_mode=False)\n",
              "  (dropout): Dropout(p=0.5, inplace=False)\n",
              "  (conv2): Conv2d(4, 8, kernel_size=(3, 3), stride=(1, 1), padding=(1, 1))\n",
              "  (fc1): Linear(in_features=392, out_features=150, bias=True)\n",
              "  (fc2): Linear(in_features=150, out_features=20, bias=True)\n",
              ")"
            ]
          },
          "metadata": {},
          "execution_count": 17
        }
      ]
    },
    {
      "cell_type": "code",
      "metadata": {
        "colab": {
          "base_uri": "https://localhost:8080/",
          "height": 282
        },
        "id": "RereYIqAWto8",
        "outputId": "2c48d949-9e5b-4e2b-b340-0fcbb0a3e94d"
      },
      "source": [
        "#testing\n",
        "i=np.random.randint(1,train_size)\n",
        "img=torch.tensor(data[i]).to(device).float()\n",
        "img=img.reshape(1,1,28,28)\n",
        "l=label[i]\n",
        "res=loaded_model(img)\n",
        "i=torch.argmax(res)\n",
        "\n",
        "\n",
        "plt.imshow(img.to('cpu').detach().numpy().reshape(28,28))\n",
        "print(\"it's a \",classes[i.item()])"
      ],
      "execution_count": null,
      "outputs": [
        {
          "output_type": "stream",
          "name": "stdout",
          "text": [
            "it's a  airplane\n"
          ]
        },
        {
          "output_type": "display_data",
          "data": {
            "image/png": "[encoded data removed]",
            "text/plain": [
              "<Figure size 432x288 with 1 Axes>"
            ]
          },
          "metadata": {
            "needs_background": "light"
          }
        }
      ]
    }
  ]
}